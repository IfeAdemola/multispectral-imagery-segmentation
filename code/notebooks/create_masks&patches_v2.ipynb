{
 "cells": [
  {
   "cell_type": "code",
   "execution_count": 1,
   "metadata": {},
   "outputs": [],
   "source": [
    "import os\n",
    "import pickle\n",
    "import numpy as np\n",
    "import pandas as pd\n",
    "import re\n",
    "import matplotlib.pyplot as plt\n",
    "import random\n",
    "import shutil\n",
    "\n",
    "# from plot import * #load_array"
   ]
  },
  {
   "cell_type": "markdown",
   "metadata": {},
   "source": [
    "### Get all original .pkl from the root direcory"
   ]
  },
  {
   "cell_type": "code",
   "execution_count": 2,
   "metadata": {},
   "outputs": [
    {
     "data": {
      "text/plain": [
       "['/home/k45848/multispectral-imagery-segmentation/data/original_data/region_2_east_2023_05_31_final_data.pkl',\n",
       " '/home/k45848/multispectral-imagery-segmentation/data/original_data/region_2_east_2024_02_25_final_data.pkl',\n",
       " '/home/k45848/multispectral-imagery-segmentation/data/original_data/areas_without_trees_east_raster_final.pkl',\n",
       " '/home/k45848/multispectral-imagery-segmentation/data/original_data/region_1_west_2023_09_26_final_data.pkl',\n",
       " '/home/k45848/multispectral-imagery-segmentation/data/original_data/region_1_west_2024_02_28_final_data.pkl',\n",
       " '/home/k45848/multispectral-imagery-segmentation/data/original_data/areas_without_trees_west_raster_final.pkl',\n",
       " '/home/k45848/multispectral-imagery-segmentation/data/original_data/region_2_east_2023_09_28_final_data.pkl',\n",
       " '/home/k45848/multispectral-imagery-segmentation/data/original_data/region_1_west_2023_05_31_final_data.pkl']"
      ]
     },
     "execution_count": 2,
     "metadata": {},
     "output_type": "execute_result"
    }
   ],
   "source": [
    "def get_file_paths(root_dir):\n",
    "    file_paths = [os.path.join(root_dir, file_name) for file_name in os.listdir(root_dir) if file_name.endswith(\".pkl\")]\n",
    "    return file_paths\n",
    "\n",
    "folder_path = \"/home/k45848/multispectral-imagery-segmentation/data/original_data\"\n",
    "get_file_paths(folder_path)"
   ]
  },
  {
   "cell_type": "markdown",
   "metadata": {},
   "source": [
    "### Load .pkl files \n",
    "Append the labels to the multispectral image array"
   ]
  },
  {
   "cell_type": "code",
   "execution_count": 3,
   "metadata": {},
   "outputs": [
    {
     "name": "stdout",
     "output_type": "stream",
     "text": [
      "region_2_east_2023_05_31_final_data (746, 744, 15)\n",
      "region_2_east_2024_02_25_final_data (746, 744, 15)\n",
      "region_1_west_2023_09_26_final_data (931, 932, 15)\n",
      "region_1_west_2024_02_28_final_data (931, 932, 15)\n",
      "region_2_east_2023_09_28_final_data (746, 744, 15)\n",
      "region_1_west_2023_05_31_final_data (931, 932, 15)\n"
     ]
    }
   ],
   "source": [
    "def get_file_paths(root_dir):\n",
    "    file_paths = [os.path.join(root_dir, file_name) for file_name in os.listdir(root_dir) if file_name.endswith(\".pkl\")]\n",
    "    return file_paths\n",
    "\n",
    "def load_array(file_path):\n",
    "    with open(file_path, 'rb') as f:\n",
    "        return pickle.load(f)\n",
    "    \n",
    "def combine_data_label(root_dir):\n",
    "    \"\"\"Combine the label arrays to the data, so has to create the final label (from 13 channels to 15 or so)\n",
    "    input  8 files\n",
    "    output 6 files\"\"\"\n",
    "    file_paths = get_file_paths(root_dir=root_dir)\n",
    "\n",
    "    arrays = {}\n",
    "    for path in file_paths:\n",
    "        array = load_array(path)\n",
    "\n",
    "        # Extract file name without extension (.pkl) as key\n",
    "        key = os.path.splitext(os.path.basename(path))[0]\n",
    "\n",
    "        # Store arrays in dictionary (all data and label files)\n",
    "        arrays[key] = array\n",
    "\n",
    "    for key in arrays.keys():\n",
    "        # Check if the key contains 'without_trees'\n",
    "        if 'without_trees' in key:\n",
    "            # Extract cardinal point from the key\n",
    "            cardinal_point = key.split('_')[-3]\n",
    "            \n",
    "            # Find matching keys without 'without_trees' and the same cardinal point\n",
    "            matching_keys = [k for k in arrays.keys() if cardinal_point in k and 'without_trees' not in k]\n",
    "            \n",
    "            # Iterate through matching keys and update arrays\n",
    "            for match_key in matching_keys:\n",
    "                # Add the first two channels from the 'without_trees' array to the matching array\n",
    "                arrays[match_key] = np.concatenate([arrays[match_key], arrays[key][...]], axis=-1)\n",
    "\n",
    "    mask = 'without_trees'\n",
    "    arrays = {key: value for key, value in arrays.items() if mask not in key}\n",
    "\n",
    "    return arrays\n",
    "\n",
    "arrays = combine_data_label(root_dir=folder_path)\n",
    "for key, value in arrays.items():\n",
    "    print(key, value.shape)   \n",
    "        "
   ]
  },
  {
   "cell_type": "code",
   "execution_count": 4,
   "metadata": {},
   "outputs": [
    {
     "name": "stdout",
     "output_type": "stream",
     "text": [
      "region_2_east_2023_05_31_final_data\n",
      "(array([0., 1.], dtype=float32), array([211064, 343960]))\n",
      "region_2_east_2024_02_25_final_data\n",
      "(array([0., 1.], dtype=float32), array([245556, 309468]))\n",
      "region_1_west_2023_09_26_final_data\n",
      "(array([0., 1.], dtype=float32), array([423854, 443838]))\n",
      "region_1_west_2024_02_28_final_data\n",
      "(array([0., 1.], dtype=float32), array([421453, 446239]))\n",
      "region_2_east_2023_09_28_final_data\n",
      "(array([0., 1.], dtype=float32), array([215878, 339146]))\n",
      "region_1_west_2023_05_31_final_data\n",
      "(array([0., 1.], dtype=float32), array([421453, 446239]))\n"
     ]
    }
   ],
   "source": [
    "for key, value in arrays.items():\n",
    "    print(key)\n",
    "    print(np.unique(value[...,10], return_counts=True))\n",
    "    \n",
    " "
   ]
  },
  {
   "cell_type": "code",
   "execution_count": 5,
   "metadata": {},
   "outputs": [
    {
     "name": "stdout",
     "output_type": "stream",
     "text": [
      "(array([0., 1., 2., 3., 5.]), array([211064,   1159,    316,    202, 342283]))\n",
      "(array([0., 1., 2., 3., 5.]), array([245556,   6706,    399,    202, 302161]))\n",
      "(array([0., 1., 2., 3., 4., 5.]), array([423854,   4149,    861,    445,   1431, 436952]))\n",
      "(array([0., 1., 2., 3., 4., 5.]), array([421453,   4442,    861,    445,   1431, 439060]))\n",
      "(array([0., 1., 2., 3., 5.]), array([215878,   6208,    399,    202, 332337]))\n",
      "(array([0., 1., 2., 3., 4., 5.]), array([421453,   1011,    651,    445,   1431, 442701]))\n"
     ]
    }
   ],
   "source": [
    "# items = list(arrays.items())\n",
    "\n",
    "# Add deforested class (1) to channel 11 so it changes from (0,1) to (0,1,2 [invalid, deforested, forest])\n",
    "for key, array in arrays.items():\n",
    "    # Extract timestamp from key\n",
    "    time_stamp_match = re.search(r'(\\d{4})_(\\d{2})_(\\d{2})', key)\n",
    "    if time_stamp_match:\n",
    "        year = time_stamp_match.group(1)\n",
    "        month = time_stamp_match.group(2)\n",
    "        day = time_stamp_match.group(3)\n",
    "        ts = float(year[2:] + month + day)  # Convert to float timestamp\n",
    "    else:\n",
    "        continue  # Skip if no timestamp found\n",
    "\n",
    "    # Define deforested condition\n",
    "    deforested_condition = (array[..., 10] == 1) & (array[..., 11] > 0) & (array[..., 12] <= ts)\n",
    "\n",
    "    # Step 1: Set all 1s in the 11th channel to 2\n",
    "    array[array[..., 10] == 1, 10] = 2\n",
    "\n",
    "    # Step 2: Revert elements that meet the condition back to 1\n",
    "    array[deforested_condition, 10] = 1\n",
    "\n",
    "    # Make a new channel where deforested class pixels are split into their different vegetation cover\n",
    "    # Add a new channel, initialise to zero\n",
    "    veg_mask = np.zeros(array.shape[:-1] +(1,))\n",
    "    array = np.concatenate((array, veg_mask), axis=-1)\n",
    "\n",
    "    condition_1 = (array[..., 10] == 2)\n",
    "    array[condition_1, 15] = 5\n",
    "\n",
    "    condition_2 = (array[..., 10] == 1) & (array[..., 14] == 1)\n",
    "    array[condition_2, 15] = 1\n",
    "\n",
    "    condition_3 = (array[..., 10] == 1) & (array[..., 14] == 2)\n",
    "    array[condition_3, 15] = 2\n",
    "\n",
    "    condition_4 = (array[..., 10] == 1) & (array[..., 14] == 3)\n",
    "    array[condition_4, 15] = 3\n",
    "\n",
    "    condition_5 = (array[..., 10] == 1) & (array[..., 14] == 4)\n",
    "    array[condition_5, 15] = 4\n",
    "\n",
    "    \"\"\"At this point array has 16 channels: 10 spectral, 1 mask, 4 attributes and 1 veg mask\"\"\"\n",
    "    # Create a new channel to take into account the weather season, making it 17 channels\n",
    "    if '2023_05'  in key:\n",
    "        season_mask = np.zeros(array.shape[:-1]+ (1,))\n",
    "    elif '2023_09' in key:\n",
    "        season_mask = np.ones(array.shape[:-1]+ (1,))\n",
    "    elif '2024_02' in key:\n",
    "        season_mask = np.full(array.shape[:-1]+ (1,), 2)     \n",
    "\n",
    "    array = np.concatenate((array, season_mask), axis=-1)\n",
    "\n",
    "    # Delete the attribute channels (id, timestamp, ...)\n",
    "    # Should have just 13 channels left\n",
    "    array = np.delete(array, [11,12,13,14], axis=-1)\n",
    "\n",
    "    arrays[key] = array\n",
    "\n",
    "    print(np.unique(array[...,11], return_counts=True))\n",
    "\n",
    "\n",
    "\n"
   ]
  },
  {
   "cell_type": "markdown",
   "metadata": {},
   "source": [
    "At this point from the output from the preceeding cell array[..., 12] is time stamp mask. Since it's \n",
    "an input feature we would move it to position 10"
   ]
  },
  {
   "cell_type": "code",
   "execution_count": 6,
   "metadata": {},
   "outputs": [],
   "source": [
    "def swap_channels(arr):\n",
    "    arr[..., [11, 12, 10]] = arr[..., [10, 11, 12]]\n",
    "    return arr\n",
    "\n",
    "final_arrays = {key: swap_channels(value) for key, value in arrays.items()}"
   ]
  },
  {
   "cell_type": "code",
   "execution_count": 7,
   "metadata": {},
   "outputs": [],
   "source": [
    "# print(np.unique(array[...,10], return_counts=True))"
   ]
  },
  {
   "cell_type": "code",
   "execution_count": 12,
   "metadata": {},
   "outputs": [
    {
     "name": "stdout",
     "output_type": "stream",
     "text": [
      "region_2_east_2023_05_31_final_data\n",
      "(array([0., 1., 2.]), array([211064,   1677, 342283]))\n",
      "region_2_east_2024_02_25_final_data\n",
      "(array([0., 1., 2.]), array([245556,   7307, 302161]))\n",
      "region_1_west_2023_09_26_final_data\n",
      "(array([0., 1., 2.]), array([423854,   6886, 436952]))\n",
      "region_1_west_2024_02_28_final_data\n",
      "(array([0., 1., 2.]), array([421453,   7179, 439060]))\n",
      "region_2_east_2023_09_28_final_data\n",
      "(array([0., 1., 2.]), array([215878,   6809, 332337]))\n",
      "region_1_west_2023_05_31_final_data\n",
      "(array([0., 1., 2.]), array([421453,   3538, 442701]))\n"
     ]
    }
   ],
   "source": [
    "for key, value in arrays.items():\n",
    "    print(key)\n",
    "    print(np.unique(value[...,11], return_counts=True))"
   ]
  },
  {
   "cell_type": "code",
   "execution_count": 14,
   "metadata": {},
   "outputs": [],
   "source": [
    "for k, v in arrays.items():\n",
    "    with open(f\"/home/k45848/multispectral-imagery-segmentation/data/08.06/{k}.pkl\", 'wb') as file:\n",
    "        pickle.dump(v, file)"
   ]
  },
  {
   "cell_type": "markdown",
   "metadata": {},
   "source": [
    "CREATE PATCHES"
   ]
  },
  {
   "cell_type": "markdown",
   "metadata": {},
   "source": [
    "08.06.2024\n",
    "New changes\n",
    "- Save only patches that have class 1 (deforested)"
   ]
  },
  {
   "cell_type": "code",
   "execution_count": 15,
   "metadata": {},
   "outputs": [],
   "source": [
    "def to_patches(file_path: str, patch_size: int, stride: int) -> None:\n",
    "    \"\"\"\n",
    "    Convert an array to patches of a given size and stride and save them to train or eval directory.\n",
    "\n",
    "    Parameters:\n",
    "    - file_path (str): Path to the input array file.\n",
    "    - patch_size (int): Size of each patch.\n",
    "    - stride (int): Stride between patches.\n",
    "    - train_dir (str): Directory to save train patches.\n",
    "    - eval_dir (str): Directory to save eval patches.\n",
    "    \"\"\"\n",
    "    array = load_array(file_path)\n",
    "    file_name = os.path.splitext(os.path.basename(file_path))[0]  # Get file name without extension\n",
    "\n",
    "    height, width, _ =  array.shape\n",
    "    patch_height, patch_width = patch_size, patch_size\n",
    "    stride_height, stride_width = stride, stride\n",
    "\n",
    "    # Calculate the number of patches in each dimension\n",
    "    num_patches_height = (height - patch_height) // stride_height + 1\n",
    "    num_patches_width = (width - patch_width) // stride_width + 1\n",
    "\n",
    "    # Determine the directory based on a random choice for train or eval\n",
    "    base_dir =os.path.dirname(file_path)\n",
    "    train_dir = f\"{base_dir}/train/\"\n",
    "    eval_dir = f\"{base_dir}/val/\"\n",
    "    if not os.path.exists(train_dir):\n",
    "        os.makedirs(train_dir)\n",
    "    if not os.path.exists(eval_dir):\n",
    "        os.makedirs(eval_dir)\n",
    "\n",
    "\n",
    "    # dir = train_dir if random.choice([True, False]) else eval_dir\n",
    "    # Determine the directory based on the 80:20 split\n",
    "    # dir = train_dir if random.random() < 0.8 else eval_dir\n",
    "    # os.makedirs(dir)\n",
    "\n",
    "    for i in range(num_patches_height):\n",
    "        for j in range(num_patches_width):\n",
    "            start_i = i * stride_height\n",
    "            start_j = j * stride_width\n",
    "            patch = array[start_i:start_i + patch_height, start_j:start_j + patch_width, :]\n",
    "            if 1 in patch[:,:,11]:\n",
    "                dir = train_dir if random.random() < 0.8 else eval_dir\n",
    "                patch_filename = f\"{dir}{file_name}_{i* num_patches_width + j + 1}.pkl\"\n",
    "             \n",
    "                with open(patch_filename, 'wb') as f:\n",
    "                    pickle.dump(patch, f)\n",
    "\n",
    "\n",
    "folder_path = \"/home/k45848/multispectral-imagery-segmentation/data/08.06\"\n",
    "file_paths = [os.path.join(folder_path, file_name) for file_name in os.listdir(folder_path) if file_name.endswith(\".pkl\")]\n",
    "for path in file_paths:\n",
    "    to_patches(path, patch_size=64, stride=16)"
   ]
  },
  {
   "cell_type": "code",
   "execution_count": 2,
   "metadata": {},
   "outputs": [
    {
     "name": "stdout",
     "output_type": "stream",
     "text": [
      "Number of files in the folder: 759\n",
      "Number of files in the folder: 3237\n"
     ]
    }
   ],
   "source": [
    "def count_files(folder_path):\n",
    "    files = os.listdir(folder_path)\n",
    "    file_count = len(files)\n",
    "    return file_count\n",
    "\n",
    "folder_path = [\"/home/k45848/multispectral-imagery-segmentation/data/08.06/val\",\n",
    "               \"/home/k45848/multispectral-imagery-segmentation/data/08.06/train\"]\n",
    "for f in folder_path:\n",
    "    num_files = count_files(f)\n",
    "    print(\"Number of files in the folder:\", num_files) #2952  #08.06 759 val, 3237 train\n",
    "#Number of files in the folder: 11670"
   ]
  },
  {
   "cell_type": "markdown",
   "metadata": {},
   "source": [
    "CHECK WHICH PATCHES HAVE DEFORESTED PIXELS"
   ]
  },
  {
   "cell_type": "markdown",
   "metadata": {},
   "source": [
    "In the dataset there is a very huge disparity in the amount of pixels that are forest areas and the deforested ones (very small). As a result, I would filter through all the patches and keep the patches that have a considerable amount of pixels that have deforested areas pixel == 1"
   ]
  },
  {
   "cell_type": "code",
   "execution_count": 21,
   "metadata": {},
   "outputs": [],
   "source": [
    "\n",
    "# Function to check if value 2 exists in the last channel of the third dimension\n",
    "def check_value(arr):\n",
    "    return 1 in arr[:,:,11]\n",
    "\n",
    "def filter_files(source_dir, destination_dir):\n",
    "    # Create destination directory of the filtered files if it doesn't exist\n",
    "    if not os.path.exists(destination_dir):\n",
    "        os.makedirs(destination_dir)\n",
    "\n",
    "    for filename in os.listdir(source_dir):\n",
    "        if filename.endswith(\".pkl\"):\n",
    "            file_path = os.path.join(source_dir, filename)\n",
    "\n",
    "            # Load data from pickle file\n",
    "            with open(file_path, 'rb') as f:\n",
    "                data = pickle.load(f)\n",
    "\n",
    "            # Check if value 2 exists in the last channel of the third dimension\n",
    "            if check_value(data):\n",
    "                # Copy the file to the destination directory\n",
    "                shutil.copy(file_path, destination_dir)\n",
    "\n"
   ]
  },
  {
   "cell_type": "code",
   "execution_count": 7,
   "metadata": {},
   "outputs": [
    {
     "data": {
      "image/png": "[encoded data removed]",
      "text/plain": [
       "<Figure size 600x600 with 2 Axes>"
      ]
     },
     "metadata": {},
     "output_type": "display_data"
    },
    {
     "data": {
      "image/png": "[encoded data removed]",
      "text/plain": [
       "<Figure size 600x600 with 2 Axes>"
      ]
     },
     "metadata": {},
     "output_type": "display_data"
    },
    {
     "data": {
      "image/png": "[encoded data removed]",
      "text/plain": [
       "<Figure size 600x600 with 2 Axes>"
      ]
     },
     "metadata": {},
     "output_type": "display_data"
    },
    {
     "data": {
      "image/png": "[encoded data removed]",
      "text/plain": [
       "<Figure size 600x600 with 2 Axes>"
      ]
     },
     "metadata": {},
     "output_type": "display_data"
    }
   ],
   "source": [
    "import numpy as np\n",
    "import matplotlib.pyplot as plt\n",
    "import matplotlib.colors as mcolors\n",
    "\n",
    "# Define the custom color map\n",
    "colors = [\"#CCCCCC\", \"#D2B48C\", \"#228B22\"]\n",
    "cmap = mcolors.ListedColormap(colors)\n",
    "\n",
    "# Generate random arrays with varying class constituents\n",
    "np.random.seed(0)  # For reproducibility\n",
    "\n",
    "# Function to plot the segmentation map\n",
    "def plot_segmentation_map(array, cmap, title):\n",
    "    plt.figure(figsize=(6, 6))\n",
    "    plt.imshow(array, cmap=cmap, vmin=0, vmax=2)\n",
    "    plt.title(title)\n",
    "    plt.colorbar(ticks=[0, 1, 2], format=plt.FuncFormatter(lambda x, _: int(x)))\n",
    "    plt.show()\n",
    "\n",
    "# Generate and plot test arrays\n",
    "array_0_1 = np.random.choice([0, 1], size=(10, 10))\n",
    "array_0_2 = np.random.choice([0, 2], size=(10, 10))\n",
    "array_1_2 = np.random.choice([1, 2], size=(10, 10))\n",
    "array_all = np.random.choice([0, 1, 2], size=(10, 10))\n",
    "\n",
    "# Plot the arrays\n",
    "plot_segmentation_map(array_0_1, cmap, \"Classes 0 and 1\")\n",
    "plot_segmentation_map(array_0_2, cmap, \"Classes 0 and 2\")\n",
    "plot_segmentation_map(array_1_2, cmap, \"Classes 1 and 2\")\n",
    "plot_segmentation_map(array_all, cmap, \"Classes 0, 1, and 2\")\n"
   ]
  }
 ],
 "metadata": {
  "kernelspec": {
   "display_name": "Thesis",
   "language": "python",
   "name": "python3"
  },
  "language_info": {
   "codemirror_mode": {
    "name": "ipython",
    "version": 3
   },
   "file_extension": ".py",
   "mimetype": "text/x-python",
   "name": "python",
   "nbconvert_exporter": "python",
   "pygments_lexer": "ipython3",
   "version": "3.12.2"
  }
 },
 "nbformat": 4,
 "nbformat_minor": 2
}
